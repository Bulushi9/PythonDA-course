{
  "cells": [
    {
      "cell_type": "markdown",
      "metadata": {
        "id": "view-in-github",
        "colab_type": "text"
      },
      "source": [
        "<a href=\"https://colab.research.google.com/github/shiftkey-labs/PythonDA-course/blob/main/Week_1_%26_2_Basics_of_Python.ipynb\" target=\"_parent\"><img src=\"https://colab.research.google.com/assets/colab-badge.svg\" alt=\"Open In Colab\"/></a>"
      ]
    },
    {
      "cell_type": "markdown",
      "source": [
        "#**ShiftKey Labs Academy UP - Foundations of Data Analytics with Python**\n",
        "\n",
        "Certification by ShiftKey Labs. Content created by Sahil Chawla.\n",
        "\n",
        "---\n",
        "\n",
        "Throughout the course, we'll use Google Colab to write Python code, explore essential programming concepts, and dive into data manipulation, analysis, and visualization using popular libraries like Pandas, NumPy, and Matplotlib. Each session will build upon the previous, and the notebook will be updated with answers and solutions as we progress through the course."
      ],
      "metadata": {
        "id": "TKqMg7FJVD7J"
      },
      "id": "TKqMg7FJVD7J"
    },
    {
      "cell_type": "markdown",
      "id": "446dfc11",
      "metadata": {
        "id": "446dfc11"
      },
      "source": [
        "# Week 1 - Variables, Input/Output, Conditional Statements"
      ]
    },
    {
      "cell_type": "markdown",
      "id": "bdf12c71",
      "metadata": {
        "id": "bdf12c71"
      },
      "source": [
        "## Section 1: Variables, Data Types and Input/Output"
      ]
    },
    {
      "cell_type": "markdown",
      "source": [
        "\n",
        "### Variables\n",
        "Variables store data that can be used and manipulated throughout the program.\n",
        "  - Variables are assigned using the `=` sign.\n",
        "  - Syntax: `variable_name = variable_value`\n",
        "\n",
        "Variable naming rules:\n",
        "- Case-sensitive\n",
        "\n",
        "- Variable names in Python can be any length and can consist of uppercase and lowercase letters (A-Z, a-z), digits (0-9), and the underscore character (_).\n",
        "\n",
        "- Although a variable name can contain digits, the first character cannot be a digit\n",
        "\n",
        "- The Python language reserves a small set of keywords that designate special language functionality. No object can have the same name as a reserved word. Below are the reserved keywords in Python:      \n",
        "\n",
        "```\n",
        "False \t def \t    if \t       raise\n",
        "None       del \t    import \t   return\n",
        "True       elif \t   in \t       try\n",
        "and \t   else \t   is \t       while\n",
        "as \t    except \t lambda \t   with\n",
        "assert     finally \tnonlocal \t yield\n",
        "break \t for \t    not\n",
        "class \t from \t   or\n",
        "continue   global  \tpass\n",
        "```"
      ],
      "metadata": {
        "id": "HZiTW2TCbLK4"
      },
      "id": "HZiTW2TCbLK4"
    },
    {
      "cell_type": "markdown",
      "source": [
        "### Data types\n",
        "Data types define the kind of data a variable holds. There are four data types in Python:\n",
        "  - `int` (integer numbers)\n",
        "  - `float` (decimal point numbers)\n",
        "  - `str` (characters)\n",
        "  - `boolean` (True, False)\n",
        "\n",
        "#### Function to check data type of a variable\n",
        "`type(variable_name)`\n",
        "\n",
        "#### String data type\n",
        "- A string is a sequence of characters and is defined by one of the three following ways:\n",
        "  - the single quote '*string*'\n",
        "  - double quote \"*string*\"\n",
        "  - triple quote '''*string*''' or \"\"\"*string*\"\"\" -> used for multi-line string\n",
        "- String concat: `variable_name1 + variable_name2 `\n",
        "\n",
        "**Note: Python assumes the type of variable based on the assigned value**"
      ],
      "metadata": {
        "id": "UgPT1HZLbLDx"
      },
      "id": "UgPT1HZLbLDx"
    },
    {
      "cell_type": "code",
      "source": [
        "x = 3.5\n",
        "type (x)"
      ],
      "metadata": {
        "id": "9PdBkKA9b9qE"
      },
      "id": "9PdBkKA9b9qE",
      "execution_count": null,
      "outputs": []
    },
    {
      "cell_type": "code",
      "source": [
        "name = \"Joe\""
      ],
      "metadata": {
        "id": "utmU2WR2dcXN"
      },
      "id": "utmU2WR2dcXN",
      "execution_count": null,
      "outputs": []
    },
    {
      "cell_type": "code",
      "source": [
        "number = \"1234678\""
      ],
      "metadata": {
        "id": "OxSn28H1de7r"
      },
      "id": "OxSn28H1de7r",
      "execution_count": null,
      "outputs": []
    },
    {
      "cell_type": "code",
      "source": [
        "is_student = True"
      ],
      "metadata": {
        "id": "EYs54jyGdh-X"
      },
      "id": "EYs54jyGdh-X",
      "execution_count": null,
      "outputs": []
    },
    {
      "cell_type": "markdown",
      "source": [
        "### Input/Output Operations\n",
        "- Input: Using `input()` function, all input operations need to be stored in a variable\n",
        "  - Syntax: `variable_name = input(“Prompt to the user”)`\n",
        "  - Note: Everything that input receives is string, hence define a data type in case we expect any other value\n",
        "    - Syntax: `variable_name = (data type)(input(“Prompt to the user”))`\n",
        "- Output: Using `print()` function\n",
        "  - Syntax:  `print (variable_name)` or `print (\"information\")` or `print (operation)`\n",
        "  - Pretty printing: Using special characters such as:\n",
        "    - `\\n` for new line\n",
        "    - `\\t` for tab space (4 spaces)\n",
        "  - String formatting allows you to insert variables or expressions into strings in a readable and structured way. There are three main methods for string formatting in Python:\n",
        "    - Using `%` (Old-style formatting)\n",
        "    - Using `.format()` (Method-based formatting)\n",
        "    - Using f-strings (Modern and most recommended)\n",
        "      - For strings - Syntax: `print(f\"String with {variable_name}\")`\n",
        "      - For decimal numbers - Syntax: `print(f\"String with {variable_name:.1f}\")` (one decimal place)\n",
        "\n"
      ],
      "metadata": {
        "id": "FgoHTQxybK9A"
      },
      "id": "FgoHTQxybK9A"
    },
    {
      "cell_type": "code",
      "source": [
        "year = input (\"What year are we in? \")"
      ],
      "metadata": {
        "id": "GYxXhh59doFI"
      },
      "id": "GYxXhh59doFI",
      "execution_count": null,
      "outputs": []
    },
    {
      "cell_type": "code",
      "source": [
        "year = int(input (\"What year are we in? \"))"
      ],
      "metadata": {
        "id": "mZCR4LvueKU1"
      },
      "id": "mZCR4LvueKU1",
      "execution_count": null,
      "outputs": []
    },
    {
      "cell_type": "markdown",
      "source": [
        "### Arithmetic operators\n",
        "\n",
        "\n",
        "1. Addition (`x+y`)\n",
        "2. Subtraction (`x-y`)\n",
        "3. Multiplication (`x*y`)\n",
        "4. Exponentiation `(x**y`)\n",
        "5. Division (`x/y`)\n",
        "6. Modulus/Remainder (`x%y`)\n",
        "\n"
      ],
      "metadata": {
        "id": "_k-dR2UpgsQR"
      },
      "id": "_k-dR2UpgsQR"
    },
    {
      "cell_type": "code",
      "source": [
        "print(2+2)\n",
        "print (2-2)\n",
        "print (2*2)\n",
        "print (2**2)\n",
        "print (2/2)\n",
        "print (2%2)"
      ],
      "metadata": {
        "id": "a_wd29Mfh3JP"
      },
      "id": "a_wd29Mfh3JP",
      "execution_count": null,
      "outputs": []
    },
    {
      "cell_type": "code",
      "source": [
        "x = 2\n",
        "y = 3"
      ],
      "metadata": {
        "id": "QYkljWjKh5Xs"
      },
      "id": "QYkljWjKh5Xs",
      "execution_count": null,
      "outputs": []
    },
    {
      "cell_type": "code",
      "source": [
        "print (x+y)\n",
        "z = x - y\n",
        "print (z)"
      ],
      "metadata": {
        "id": "NXSU8eS4iNUY"
      },
      "id": "NXSU8eS4iNUY",
      "execution_count": null,
      "outputs": []
    },
    {
      "cell_type": "markdown",
      "source": [
        "### Comments\n",
        "Adding comments to your code can make it more readable.\n",
        "In Python, you can add a comment line by starting the line with **\"#\" symbol** followed by the comment text.\n",
        "\n",
        "The commented lines are not executed by Python."
      ],
      "metadata": {
        "id": "2DZeAlJ_bKyd"
      },
      "id": "2DZeAlJ_bKyd"
    },
    {
      "cell_type": "markdown",
      "source": [
        "### Section 1 - Examples"
      ],
      "metadata": {
        "id": "zphtbSwMayw9"
      },
      "id": "zphtbSwMayw9"
    },
    {
      "cell_type": "markdown",
      "source": [
        "#### 1.1 Display Hello World"
      ],
      "metadata": {
        "id": "g9zhjw4UbjHc"
      },
      "id": "g9zhjw4UbjHc"
    },
    {
      "cell_type": "code",
      "source": [
        "# Display Hello World"
      ],
      "metadata": {
        "id": "_ovDhqbuGopZ"
      },
      "id": "_ovDhqbuGopZ",
      "execution_count": null,
      "outputs": []
    },
    {
      "cell_type": "markdown",
      "source": [
        "#### 1.2 Display your name and age"
      ],
      "metadata": {
        "id": "SlmN9U61bvYj"
      },
      "id": "SlmN9U61bvYj"
    },
    {
      "cell_type": "code",
      "source": [
        "# Displaying name and age"
      ],
      "metadata": {
        "id": "XKMwlANHb3el"
      },
      "id": "XKMwlANHb3el",
      "execution_count": null,
      "outputs": []
    },
    {
      "cell_type": "markdown",
      "source": [
        "#### 1.3 Display your name and age as the following statement:\n",
        "My name is *name* and I am *age* years old"
      ],
      "metadata": {
        "id": "JSfpVZDzelsl"
      },
      "id": "JSfpVZDzelsl"
    },
    {
      "cell_type": "code",
      "source": [
        "# Displaying name and age as a sentence"
      ],
      "metadata": {
        "id": "YbajILm_ejNI"
      },
      "id": "YbajILm_ejNI",
      "execution_count": null,
      "outputs": []
    },
    {
      "cell_type": "markdown",
      "source": [
        "#### 1.4 Display your name and age as the following:\n",
        "Name: *name*\n",
        "\n",
        "Age: *age*"
      ],
      "metadata": {
        "id": "wJpJNeGXfsni"
      },
      "id": "wJpJNeGXfsni"
    },
    {
      "cell_type": "code",
      "source": [
        "# Displaying name and age in two different lines"
      ],
      "metadata": {
        "id": "qAiQ-LLbf2Ze"
      },
      "id": "qAiQ-LLbf2Ze",
      "execution_count": null,
      "outputs": []
    },
    {
      "cell_type": "markdown",
      "source": [
        "#### 1.5 Write a Python program that converts a temperature given in Celsius to Fahrenheit. The formula is F = (C * 9/5) + 32. The program should take input from the user for the Celsius value.\n",
        "\n",
        "```\n",
        "# Sample Input/Output\n",
        "Enter temperature in Celsius: 25\n",
        "25°C is equal to 77°F\n",
        "```\n",
        "\n"
      ],
      "metadata": {
        "id": "QZNm1fi9kkXb"
      },
      "id": "QZNm1fi9kkXb"
    },
    {
      "cell_type": "code",
      "source": [
        "# Write code below:"
      ],
      "metadata": {
        "id": "idSzDwdOki_m"
      },
      "id": "idSzDwdOki_m",
      "execution_count": null,
      "outputs": []
    },
    {
      "cell_type": "markdown",
      "source": [
        "#### 1.6 Create a simple calculator that takes two numbers as input from the user and prints their sum, difference, product, quotient and remainder.\n",
        "\n",
        "```\n",
        "# Sample Input/Output\n",
        "Enter first number: 15\n",
        "Enter second number: 3\n",
        "Sum: 18\n",
        "Difference: 12\n",
        "Product: 45\n",
        "Quotient: 5.0\n",
        "Remainder: 0\n",
        "```\n",
        "\n"
      ],
      "metadata": {
        "id": "E-01Gl-Qp-iS"
      },
      "id": "E-01Gl-Qp-iS"
    },
    {
      "cell_type": "code",
      "source": [
        "# Write code below:"
      ],
      "metadata": {
        "id": "r2DgE6EYp68J"
      },
      "id": "r2DgE6EYp68J",
      "execution_count": null,
      "outputs": []
    },
    {
      "cell_type": "markdown",
      "source": [
        "## Section 2: Conditional Statements"
      ],
      "metadata": {
        "id": "FtLBjFqP88Nh"
      },
      "id": "FtLBjFqP88Nh"
    },
    {
      "cell_type": "markdown",
      "source": [
        "Conditional statements are used to perform different actions based on different conditions.\n",
        "\n",
        "- The first condition in the `if` statement is checked. If it's True, that block of code is executed.\n",
        "\n",
        "- If the `if` condition is False, Python moves to the `elif` condition (if it exists). If an `elif` condition is True, that block of code is executed.\n",
        "\n",
        "- If neither the `if` nor any `elif` conditions are True, the else block is executed as a final fallback.\n",
        "```\n",
        "if condition:\n",
        "    # block of code to execute if condition is true\n",
        "elif another_condition:\n",
        "    # block of code to execute if the second condition is true\n",
        "else:\n",
        "    # block of code to execute if both conditions are false\n",
        "```\n",
        "\n",
        "Comparison Operators:\n",
        "\n",
        "- `==`: Equal to\n",
        "- `!=`: Not equal to\n",
        "- `>`: Greater than\n",
        "- `<`: Less than\n",
        "- `>=`: Greater than or equal to\n",
        "- `<=`: Less than or equal to\n",
        "\n",
        "Logical Operators:\n",
        "\n",
        "- `and`: Returns True if both conditions are true\n",
        "- `or`: Returns True if at least one condition is true\n",
        "- `not`: Inverts the Boolean value (True becomes False, and vice versa)\n",
        "\n",
        "Notes:\n",
        "\n",
        "- Order matters: Python checks the conditions in the order they are written. As soon as one condition is True, Python ignores the rest of the conditions.\n",
        "\n",
        "- `elif` is optional: You can have an `if-else` statement without `elif` if you don't need to check multiple conditions.\n",
        "\n",
        "- `else` is also optional: If you don’t need a fallback, you can omit the `else` block.\n",
        "\n",
        "\n"
      ],
      "metadata": {
        "id": "7MJNdzUS9Ivs"
      },
      "id": "7MJNdzUS9Ivs"
    },
    {
      "cell_type": "markdown",
      "source": [
        "### Section 2 - Examples"
      ],
      "metadata": {
        "id": "qRL-FRQW-OJZ"
      },
      "id": "qRL-FRQW-OJZ"
    },
    {
      "cell_type": "markdown",
      "source": [
        "#### 2.1 Conditional Statements with Comparison Operators\n",
        "\n",
        "Based on user input determine if the user is an adult or minor\n",
        "\n",
        "```\n",
        "# Sample Input/Output\n",
        "Enter your age: 25\n",
        "You are an adult.\n",
        "```\n",
        "\n"
      ],
      "metadata": {
        "id": "xluvig34_SVK"
      },
      "id": "xluvig34_SVK"
    },
    {
      "cell_type": "code",
      "source": [],
      "metadata": {
        "id": "LtNpJufrAzZV"
      },
      "id": "LtNpJufrAzZV",
      "execution_count": null,
      "outputs": []
    },
    {
      "cell_type": "markdown",
      "source": [
        "#### 2.2 Using elif and Multiple Conditions\n",
        "\n",
        "Write a Python program that takes the temperature (in Celsius) as input and determines the weather type using the following conditions:\n",
        "\n",
        "- If the temperature is greater than or equal to 30°C, print \"It's a hot day.\"\n",
        "\n",
        "- If the temperature is between 20°C and 29°C, print \"It's a warm day.\"\n",
        "\n",
        "- If the temperature is between 10°C and 19°C, print \"It's a cool day.\"\n",
        "\n",
        "- If the temperature is below 10°C, print \"It's a cold day.\"\n",
        "\n",
        "\n",
        "```\n",
        "# Sample Input/Output\n",
        "Enter temperature in Celsius: 25\n",
        "It's a warm day.\n",
        "```"
      ],
      "metadata": {
        "id": "paJPGF7MBEE_"
      },
      "id": "paJPGF7MBEE_"
    },
    {
      "cell_type": "code",
      "source": [],
      "metadata": {
        "id": "HLUweWLyCmo9"
      },
      "id": "HLUweWLyCmo9",
      "execution_count": null,
      "outputs": []
    },
    {
      "cell_type": "markdown",
      "source": [
        "#### 2.3 Logical Operators in Conditional Statements\n",
        "\n",
        "Write a program that asks for the user's age and income. If the user is older than 18 and has an income greater than $50,000, print \"You are eligible for the premium plan.\" Otherwise, print \"You are not eligible for the premium plan.\"\n",
        "\n",
        "\n",
        "```\n",
        "# Sample Input/Output\n",
        "Enter your age: 25\n",
        "Enter your income: 60000\n",
        "You are eligible for the premium plan.\n",
        "```\n",
        "\n",
        "\n"
      ],
      "metadata": {
        "id": "VGPvsxSUCtdY"
      },
      "id": "VGPvsxSUCtdY"
    },
    {
      "cell_type": "code",
      "source": [],
      "metadata": {
        "id": "3a6TMhd7C_f4"
      },
      "id": "3a6TMhd7C_f4",
      "execution_count": null,
      "outputs": []
    },
    {
      "cell_type": "markdown",
      "source": [
        "#### 2.4 Nested If-Else Statements\n",
        "\n",
        "Create a program that asks the user for their age and checks the following:\n",
        "\n",
        "- If the user is 18 or older, print \"You are an adult.\"\n",
        "  - If the user is 65 or older, also print \"You are a senior citizen.\"\n",
        "- If the user is younger than 18, print \"You are a minor.\"\n",
        "\n",
        "```\n",
        "# Sample Input/Ouput\n",
        "Enter your age: 70\n",
        "You are an adult.\n",
        "You are a senior citizen.\n",
        "```"
      ],
      "metadata": {
        "id": "DbK81xBtDwnh"
      },
      "id": "DbK81xBtDwnh"
    },
    {
      "cell_type": "code",
      "source": [],
      "metadata": {
        "id": "DCTSpI8dD-bp"
      },
      "id": "DCTSpI8dD-bp",
      "execution_count": null,
      "outputs": []
    },
    {
      "cell_type": "markdown",
      "source": [
        "#### 2.5 Conditional Statements with not Operator\n",
        "\n",
        "Write a Python program that asks the user if they like chocolate. If the user does not like chocolate, print \"You don’t like chocolate? That’s surprising!\" Otherwise, print \"Glad you like chocolate!\"\n",
        "\n",
        "```\n",
        "# Sample Input/Output\n",
        "Do you like chocolate? (yes/no): no\n",
        "You don’t like chocolate? That’s surprising!\n",
        "```\n",
        "\n",
        "\n",
        "\n"
      ],
      "metadata": {
        "id": "al_temGaEYSJ"
      },
      "id": "al_temGaEYSJ"
    },
    {
      "cell_type": "code",
      "source": [],
      "metadata": {
        "id": "yzjBKpusElhY"
      },
      "id": "yzjBKpusElhY",
      "execution_count": null,
      "outputs": []
    },
    {
      "cell_type": "markdown",
      "source": [
        "##### Boolean example"
      ],
      "metadata": {
        "id": "Ld9C3wivEyEw"
      },
      "id": "Ld9C3wivEyEw"
    },
    {
      "cell_type": "code",
      "source": [
        "likes_chocolate = True\n",
        "\n",
        "if likes_chocolate:\n",
        "  print (\"Yes\")\n",
        "else:\n",
        "  print (\"No\")"
      ],
      "metadata": {
        "id": "kBk_M-C7EoNm"
      },
      "id": "kBk_M-C7EoNm",
      "execution_count": null,
      "outputs": []
    },
    {
      "cell_type": "markdown",
      "source": [
        "## DIY Exercises 1"
      ],
      "metadata": {
        "id": "lVTapuzYHUfc"
      },
      "id": "lVTapuzYHUfc"
    },
    {
      "cell_type": "markdown",
      "source": [
        "#### 1. Calculate Area and Perimeter of a Rectangle\n",
        "\n",
        "Write a Python program that takes the length and width of a rectangle from the user and calculates its area and perimeter. The formulas are:\n",
        "\n",
        "Area: length * width\n",
        "\n",
        "Perimeter: 2 * (length + width)\n",
        "\n",
        "```\n",
        "# Sample Input/Output\n",
        "Enter the length of the rectangle: 5\n",
        "Enter the width of the rectangle: 3\n",
        "Area of the rectangle: 15.0\n",
        "Perimeter of the rectangle: 16.0\n",
        "```\n",
        "\n",
        "\n"
      ],
      "metadata": {
        "id": "Ae-b6ZV0vwI6"
      },
      "id": "Ae-b6ZV0vwI6"
    },
    {
      "cell_type": "code",
      "source": [
        "# Write program below"
      ],
      "metadata": {
        "id": "I3AW2dN0v5Fh"
      },
      "id": "I3AW2dN0v5Fh",
      "execution_count": null,
      "outputs": []
    },
    {
      "cell_type": "markdown",
      "source": [
        "#### 2. Simple Interest Calculator\n",
        "\n",
        "Write a Python program to calculate the simple interest using the formula:\n",
        "\n",
        "Simple Interest = (Principal * Rate * Time) / 100.\n",
        "\n",
        "The program should take the principal amount, interest rate, and time (in years) as inputs.\n",
        "\n",
        "```\n",
        "# Sample Input/Output\n",
        "Enter the principal amount: 1000\n",
        "Enter the interest rate: 5\n",
        "Enter the time in years: 3\n",
        "The simple interest is: 150.0\n",
        "```"
      ],
      "metadata": {
        "id": "2xw2ra2zv7mm"
      },
      "id": "2xw2ra2zv7mm"
    },
    {
      "cell_type": "code",
      "source": [
        "# Write program below"
      ],
      "metadata": {
        "id": "jbktjeKuFzLr"
      },
      "id": "jbktjeKuFzLr",
      "execution_count": null,
      "outputs": []
    },
    {
      "cell_type": "markdown",
      "source": [
        "#### 3. Variable Swapping\n",
        "\n",
        "\n",
        "Write a Python program to take the input of the variables from the user, one variable needs to be string and other needs to be a decimal number. Print the original values then swap the values of two variables, and finally print the result.\n",
        "\n",
        "```\n",
        "# Sample Input/Output\n",
        "Enter value for variable 1: hi\n",
        "Enter value for variable 2: 01\n",
        "Original values\n",
        "variable_1:hi\n",
        "variable_2:01\n",
        "New values\n",
        "variable_1:01\n",
        "variable_2:hi\n",
        "```"
      ],
      "metadata": {
        "id": "MI-8nLatwg1o"
      },
      "id": "MI-8nLatwg1o"
    }
  ],
  "metadata": {
    "colab": {
      "provenance": [],
      "toc_visible": true,
      "collapsed_sections": [
        "bdf12c71",
        "UgPT1HZLbLDx",
        "FgoHTQxybK9A",
        "FtLBjFqP88Nh",
        "lVTapuzYHUfc"
      ],
      "include_colab_link": true
    },
    "language_info": {
      "name": "python"
    },
    "kernelspec": {
      "name": "python3",
      "display_name": "Python 3"
    }
  },
  "nbformat": 4,
  "nbformat_minor": 5
}